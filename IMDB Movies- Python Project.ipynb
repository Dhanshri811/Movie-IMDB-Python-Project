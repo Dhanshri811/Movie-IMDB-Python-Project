{
 "cells": [
  {
   "cell_type": "code",
   "execution_count": 1,
   "id": "b02bf313",
   "metadata": {},
   "outputs": [],
   "source": [
    "import pandas as pd"
   ]
  },
  {
   "cell_type": "code",
   "execution_count": 2,
   "id": "12414c3d",
   "metadata": {},
   "outputs": [],
   "source": [
    "import numpy as np"
   ]
  },
  {
   "cell_type": "code",
   "execution_count": 8,
   "id": "83224ba8",
   "metadata": {},
   "outputs": [],
   "source": [
    "import matplotlib.pyplot as plt"
   ]
  },
  {
   "cell_type": "code",
   "execution_count": 5,
   "id": "52b97c4f",
   "metadata": {},
   "outputs": [],
   "source": [
    "import seaborn as sns"
   ]
  },
  {
   "cell_type": "code",
   "execution_count": 6,
   "id": "7f45d4aa",
   "metadata": {},
   "outputs": [],
   "source": [
    "df = pd.read_csv(r'/home/nineleaps/Documents/IMDB-Movie-Data.csv')"
   ]
  },
  {
   "cell_type": "code",
   "execution_count": 7,
   "id": "2d988f24",
   "metadata": {},
   "outputs": [
    {
     "data": {
      "text/html": [
       "<div>\n",
       "<style scoped>\n",
       "    .dataframe tbody tr th:only-of-type {\n",
       "        vertical-align: middle;\n",
       "    }\n",
       "\n",
       "    .dataframe tbody tr th {\n",
       "        vertical-align: top;\n",
       "    }\n",
       "\n",
       "    .dataframe thead th {\n",
       "        text-align: right;\n",
       "    }\n",
       "</style>\n",
       "<table border=\"1\" class=\"dataframe\">\n",
       "  <thead>\n",
       "    <tr style=\"text-align: right;\">\n",
       "      <th></th>\n",
       "      <th>Rank</th>\n",
       "      <th>Title</th>\n",
       "      <th>Genre</th>\n",
       "      <th>Description</th>\n",
       "      <th>Director</th>\n",
       "      <th>Actors</th>\n",
       "      <th>Year</th>\n",
       "      <th>Runtime (Minutes)</th>\n",
       "      <th>Rating</th>\n",
       "      <th>Votes</th>\n",
       "      <th>Revenue (Millions)</th>\n",
       "      <th>Metascore</th>\n",
       "      <th>Unnamed: 12</th>\n",
       "    </tr>\n",
       "  </thead>\n",
       "  <tbody>\n",
       "    <tr>\n",
       "      <th>0</th>\n",
       "      <td>1</td>\n",
       "      <td>Guardians of the Galaxy</td>\n",
       "      <td>Action,Adventure,Sci-Fi</td>\n",
       "      <td>A group of intergalactic criminals are forced ...</td>\n",
       "      <td>James Gunn</td>\n",
       "      <td>Chris Pratt, Vin Diesel, Bradley Cooper, Zoe S...</td>\n",
       "      <td>2014</td>\n",
       "      <td>121</td>\n",
       "      <td>8.1</td>\n",
       "      <td>757074.0</td>\n",
       "      <td>333.13</td>\n",
       "      <td>76.0</td>\n",
       "      <td>NaN</td>\n",
       "    </tr>\n",
       "    <tr>\n",
       "      <th>1</th>\n",
       "      <td>2</td>\n",
       "      <td>Prometheus</td>\n",
       "      <td>Adventure,Mystery,Sci-Fi</td>\n",
       "      <td>Following clues to the origin of mankind, a te...</td>\n",
       "      <td>Ridley Scott</td>\n",
       "      <td>Noomi Rapace, Logan Marshall-Green, Michael Fa...</td>\n",
       "      <td>2012</td>\n",
       "      <td>124</td>\n",
       "      <td>7.0</td>\n",
       "      <td>485820.0</td>\n",
       "      <td>126.46</td>\n",
       "      <td>65.0</td>\n",
       "      <td>NaN</td>\n",
       "    </tr>\n",
       "    <tr>\n",
       "      <th>2</th>\n",
       "      <td>3</td>\n",
       "      <td>Split</td>\n",
       "      <td>Horror,Thriller</td>\n",
       "      <td>Three girls are kidnapped by a man with a diag...</td>\n",
       "      <td>M. Night Shyamalan</td>\n",
       "      <td>James McAvoy, Anya Taylor-Joy, Haley Lu Richar...</td>\n",
       "      <td>2016</td>\n",
       "      <td>117</td>\n",
       "      <td>7.3</td>\n",
       "      <td>157606.0</td>\n",
       "      <td>138.12</td>\n",
       "      <td>62.0</td>\n",
       "      <td>NaN</td>\n",
       "    </tr>\n",
       "    <tr>\n",
       "      <th>3</th>\n",
       "      <td>4</td>\n",
       "      <td>Sing</td>\n",
       "      <td>Animation,Comedy,Family</td>\n",
       "      <td>In a city of humanoid animals, a hustling thea...</td>\n",
       "      <td>Christophe Lourdelet</td>\n",
       "      <td>Matthew McConaughey,Reese Witherspoon, Seth Ma...</td>\n",
       "      <td>2016</td>\n",
       "      <td>108</td>\n",
       "      <td>7.2</td>\n",
       "      <td>60545.0</td>\n",
       "      <td>270.32</td>\n",
       "      <td>59.0</td>\n",
       "      <td>NaN</td>\n",
       "    </tr>\n",
       "    <tr>\n",
       "      <th>4</th>\n",
       "      <td>5</td>\n",
       "      <td>Suicide Squad</td>\n",
       "      <td>Action,Adventure,Fantasy</td>\n",
       "      <td>A secret government agency recruits some of th...</td>\n",
       "      <td>David Ayer</td>\n",
       "      <td>Will Smith, Jared Leto, Margot Robbie, Viola D...</td>\n",
       "      <td>2016</td>\n",
       "      <td>123</td>\n",
       "      <td>6.2</td>\n",
       "      <td>393727.0</td>\n",
       "      <td>325.02</td>\n",
       "      <td>40.0</td>\n",
       "      <td>NaN</td>\n",
       "    </tr>\n",
       "  </tbody>\n",
       "</table>\n",
       "</div>"
      ],
      "text/plain": [
       "   Rank                    Title                     Genre   \n",
       "0     1  Guardians of the Galaxy   Action,Adventure,Sci-Fi  \\\n",
       "1     2               Prometheus  Adventure,Mystery,Sci-Fi   \n",
       "2     3                    Split           Horror,Thriller   \n",
       "3     4                     Sing   Animation,Comedy,Family   \n",
       "4     5            Suicide Squad  Action,Adventure,Fantasy   \n",
       "\n",
       "                                         Description              Director   \n",
       "0  A group of intergalactic criminals are forced ...            James Gunn  \\\n",
       "1  Following clues to the origin of mankind, a te...          Ridley Scott   \n",
       "2  Three girls are kidnapped by a man with a diag...    M. Night Shyamalan   \n",
       "3  In a city of humanoid animals, a hustling thea...  Christophe Lourdelet   \n",
       "4  A secret government agency recruits some of th...            David Ayer   \n",
       "\n",
       "                                              Actors  Year  Runtime (Minutes)   \n",
       "0  Chris Pratt, Vin Diesel, Bradley Cooper, Zoe S...  2014                121  \\\n",
       "1  Noomi Rapace, Logan Marshall-Green, Michael Fa...  2012                124   \n",
       "2  James McAvoy, Anya Taylor-Joy, Haley Lu Richar...  2016                117   \n",
       "3  Matthew McConaughey,Reese Witherspoon, Seth Ma...  2016                108   \n",
       "4  Will Smith, Jared Leto, Margot Robbie, Viola D...  2016                123   \n",
       "\n",
       "   Rating     Votes  Revenue (Millions)  Metascore  Unnamed: 12  \n",
       "0     8.1  757074.0              333.13       76.0          NaN  \n",
       "1     7.0  485820.0              126.46       65.0          NaN  \n",
       "2     7.3  157606.0              138.12       62.0          NaN  \n",
       "3     7.2   60545.0              270.32       59.0          NaN  \n",
       "4     6.2  393727.0              325.02       40.0          NaN  "
      ]
     },
     "execution_count": 7,
     "metadata": {},
     "output_type": "execute_result"
    }
   ],
   "source": [
    "df.head()"
   ]
  },
  {
   "cell_type": "code",
   "execution_count": 10,
   "id": "f32556a1",
   "metadata": {},
   "outputs": [
    {
     "data": {
      "text/plain": [
       "(1000, 13)"
      ]
     },
     "execution_count": 10,
     "metadata": {},
     "output_type": "execute_result"
    }
   ],
   "source": [
    "df.shape"
   ]
  },
  {
   "cell_type": "code",
   "execution_count": 11,
   "id": "fffc7fa6",
   "metadata": {},
   "outputs": [
    {
     "name": "stdout",
     "output_type": "stream",
     "text": [
      "Number of rows: 1000\n",
      "Number of columns: 13\n"
     ]
    }
   ],
   "source": [
    "print('Number of rows:', df.shape[0])\n",
    "print('Number of columns:', df.shape[1])"
   ]
  },
  {
   "cell_type": "code",
   "execution_count": 13,
   "id": "44c2fb96",
   "metadata": {},
   "outputs": [
    {
     "name": "stdout",
     "output_type": "stream",
     "text": [
      "<class 'pandas.core.frame.DataFrame'>\n",
      "RangeIndex: 1000 entries, 0 to 999\n",
      "Data columns (total 13 columns):\n",
      " #   Column              Non-Null Count  Dtype  \n",
      "---  ------              --------------  -----  \n",
      " 0   Rank                1000 non-null   int64  \n",
      " 1   Title               1000 non-null   object \n",
      " 2   Genre               1000 non-null   object \n",
      " 3   Description         1000 non-null   object \n",
      " 4   Director            1000 non-null   object \n",
      " 5   Actors              1000 non-null   object \n",
      " 6   Year                1000 non-null   object \n",
      " 7   Runtime (Minutes)   1000 non-null   int64  \n",
      " 8   Rating              1000 non-null   float64\n",
      " 9   Votes               1000 non-null   float64\n",
      " 10  Revenue (Millions)  873 non-null    float64\n",
      " 11  Metascore           936 non-null    float64\n",
      " 12  Unnamed: 12         2 non-null      float64\n",
      "dtypes: float64(5), int64(2), object(6)\n",
      "memory usage: 101.7+ KB\n"
     ]
    }
   ],
   "source": [
    "df.info()"
   ]
  },
  {
   "cell_type": "code",
   "execution_count": 20,
   "id": "e12db2bd",
   "metadata": {},
   "outputs": [
    {
     "name": "stdout",
     "output_type": "stream",
     "text": [
      "Any missing values? True\n"
     ]
    }
   ],
   "source": [
    "print('Any missing values?', df.isnull().values.any())"
   ]
  },
  {
   "cell_type": "code",
   "execution_count": 22,
   "id": "b7bd8b14",
   "metadata": {},
   "outputs": [
    {
     "data": {
      "text/plain": [
       "Rank                    0\n",
       "Title                   0\n",
       "Genre                   0\n",
       "Description             0\n",
       "Director                0\n",
       "Actors                  0\n",
       "Year                    0\n",
       "Runtime (Minutes)       0\n",
       "Rating                  0\n",
       "Votes                   0\n",
       "Revenue (Millions)    127\n",
       "Metascore              64\n",
       "Unnamed: 12           998\n",
       "dtype: int64"
      ]
     },
     "execution_count": 22,
     "metadata": {},
     "output_type": "execute_result"
    }
   ],
   "source": [
    "df.isnull().sum()"
   ]
  },
  {
   "cell_type": "markdown",
   "id": "84011fff",
   "metadata": {},
   "source": [
    "## Missing values by Heatmap"
   ]
  },
  {
   "cell_type": "code",
   "execution_count": 142,
   "id": "e7c80c5b",
   "metadata": {},
   "outputs": [
    {
     "data": {
      "text/plain": [
       "<Axes: >"
      ]
     },
     "execution_count": 142,
     "metadata": {},
     "output_type": "execute_result"
    },
    {
     "data": {
      "image/png": "[encoded data removed]",
      "text/plain": [
       "<Figure size 1000x500 with 2 Axes>"
      ]
     },
     "metadata": {},
     "output_type": "display_data"
    }
   ],
   "source": [
    "plt.figure(figsize= (10,5))\n",
    "sns.heatmap(df.isnull())"
   ]
  },
  {
   "cell_type": "markdown",
   "id": "10c89434",
   "metadata": {},
   "source": [
    "# Dropping a unnamed column which has maximum null values"
   ]
  },
  {
   "cell_type": "code",
   "execution_count": 27,
   "id": "bcfb00e7",
   "metadata": {},
   "outputs": [],
   "source": [
    "df1= df.drop(df.columns[12], axis=1)"
   ]
  },
  {
   "cell_type": "code",
   "execution_count": 28,
   "id": "b34c552b",
   "metadata": {},
   "outputs": [
    {
     "data": {
      "text/html": [
       "<div>\n",
       "<style scoped>\n",
       "    .dataframe tbody tr th:only-of-type {\n",
       "        vertical-align: middle;\n",
       "    }\n",
       "\n",
       "    .dataframe tbody tr th {\n",
       "        vertical-align: top;\n",
       "    }\n",
       "\n",
       "    .dataframe thead th {\n",
       "        text-align: right;\n",
       "    }\n",
       "</style>\n",
       "<table border=\"1\" class=\"dataframe\">\n",
       "  <thead>\n",
       "    <tr style=\"text-align: right;\">\n",
       "      <th></th>\n",
       "      <th>Rank</th>\n",
       "      <th>Title</th>\n",
       "      <th>Genre</th>\n",
       "      <th>Description</th>\n",
       "      <th>Director</th>\n",
       "      <th>Actors</th>\n",
       "      <th>Year</th>\n",
       "      <th>Runtime (Minutes)</th>\n",
       "      <th>Rating</th>\n",
       "      <th>Votes</th>\n",
       "      <th>Revenue (Millions)</th>\n",
       "      <th>Metascore</th>\n",
       "    </tr>\n",
       "  </thead>\n",
       "  <tbody>\n",
       "    <tr>\n",
       "      <th>0</th>\n",
       "      <td>1</td>\n",
       "      <td>Guardians of the Galaxy</td>\n",
       "      <td>Action,Adventure,Sci-Fi</td>\n",
       "      <td>A group of intergalactic criminals are forced ...</td>\n",
       "      <td>James Gunn</td>\n",
       "      <td>Chris Pratt, Vin Diesel, Bradley Cooper, Zoe S...</td>\n",
       "      <td>2014</td>\n",
       "      <td>121</td>\n",
       "      <td>8.1</td>\n",
       "      <td>757074.0</td>\n",
       "      <td>333.13</td>\n",
       "      <td>76.0</td>\n",
       "    </tr>\n",
       "    <tr>\n",
       "      <th>1</th>\n",
       "      <td>2</td>\n",
       "      <td>Prometheus</td>\n",
       "      <td>Adventure,Mystery,Sci-Fi</td>\n",
       "      <td>Following clues to the origin of mankind, a te...</td>\n",
       "      <td>Ridley Scott</td>\n",
       "      <td>Noomi Rapace, Logan Marshall-Green, Michael Fa...</td>\n",
       "      <td>2012</td>\n",
       "      <td>124</td>\n",
       "      <td>7.0</td>\n",
       "      <td>485820.0</td>\n",
       "      <td>126.46</td>\n",
       "      <td>65.0</td>\n",
       "    </tr>\n",
       "    <tr>\n",
       "      <th>2</th>\n",
       "      <td>3</td>\n",
       "      <td>Split</td>\n",
       "      <td>Horror,Thriller</td>\n",
       "      <td>Three girls are kidnapped by a man with a diag...</td>\n",
       "      <td>M. Night Shyamalan</td>\n",
       "      <td>James McAvoy, Anya Taylor-Joy, Haley Lu Richar...</td>\n",
       "      <td>2016</td>\n",
       "      <td>117</td>\n",
       "      <td>7.3</td>\n",
       "      <td>157606.0</td>\n",
       "      <td>138.12</td>\n",
       "      <td>62.0</td>\n",
       "    </tr>\n",
       "    <tr>\n",
       "      <th>3</th>\n",
       "      <td>4</td>\n",
       "      <td>Sing</td>\n",
       "      <td>Animation,Comedy,Family</td>\n",
       "      <td>In a city of humanoid animals, a hustling thea...</td>\n",
       "      <td>Christophe Lourdelet</td>\n",
       "      <td>Matthew McConaughey,Reese Witherspoon, Seth Ma...</td>\n",
       "      <td>2016</td>\n",
       "      <td>108</td>\n",
       "      <td>7.2</td>\n",
       "      <td>60545.0</td>\n",
       "      <td>270.32</td>\n",
       "      <td>59.0</td>\n",
       "    </tr>\n",
       "    <tr>\n",
       "      <th>4</th>\n",
       "      <td>5</td>\n",
       "      <td>Suicide Squad</td>\n",
       "      <td>Action,Adventure,Fantasy</td>\n",
       "      <td>A secret government agency recruits some of th...</td>\n",
       "      <td>David Ayer</td>\n",
       "      <td>Will Smith, Jared Leto, Margot Robbie, Viola D...</td>\n",
       "      <td>2016</td>\n",
       "      <td>123</td>\n",
       "      <td>6.2</td>\n",
       "      <td>393727.0</td>\n",
       "      <td>325.02</td>\n",
       "      <td>40.0</td>\n",
       "    </tr>\n",
       "  </tbody>\n",
       "</table>\n",
       "</div>"
      ],
      "text/plain": [
       "   Rank                    Title                     Genre   \n",
       "0     1  Guardians of the Galaxy   Action,Adventure,Sci-Fi  \\\n",
       "1     2               Prometheus  Adventure,Mystery,Sci-Fi   \n",
       "2     3                    Split           Horror,Thriller   \n",
       "3     4                     Sing   Animation,Comedy,Family   \n",
       "4     5            Suicide Squad  Action,Adventure,Fantasy   \n",
       "\n",
       "                                         Description              Director   \n",
       "0  A group of intergalactic criminals are forced ...            James Gunn  \\\n",
       "1  Following clues to the origin of mankind, a te...          Ridley Scott   \n",
       "2  Three girls are kidnapped by a man with a diag...    M. Night Shyamalan   \n",
       "3  In a city of humanoid animals, a hustling thea...  Christophe Lourdelet   \n",
       "4  A secret government agency recruits some of th...            David Ayer   \n",
       "\n",
       "                                              Actors  Year  Runtime (Minutes)   \n",
       "0  Chris Pratt, Vin Diesel, Bradley Cooper, Zoe S...  2014                121  \\\n",
       "1  Noomi Rapace, Logan Marshall-Green, Michael Fa...  2012                124   \n",
       "2  James McAvoy, Anya Taylor-Joy, Haley Lu Richar...  2016                117   \n",
       "3  Matthew McConaughey,Reese Witherspoon, Seth Ma...  2016                108   \n",
       "4  Will Smith, Jared Leto, Margot Robbie, Viola D...  2016                123   \n",
       "\n",
       "   Rating     Votes  Revenue (Millions)  Metascore  \n",
       "0     8.1  757074.0              333.13       76.0  \n",
       "1     7.0  485820.0              126.46       65.0  \n",
       "2     7.3  157606.0              138.12       62.0  \n",
       "3     7.2   60545.0              270.32       59.0  \n",
       "4     6.2  393727.0              325.02       40.0  "
      ]
     },
     "execution_count": 28,
     "metadata": {},
     "output_type": "execute_result"
    }
   ],
   "source": [
    "df1.head()"
   ]
  },
  {
   "cell_type": "code",
   "execution_count": 31,
   "id": "c7a61959",
   "metadata": {},
   "outputs": [
    {
     "data": {
      "text/plain": [
       "Rank                   0.0\n",
       "Title                  0.0\n",
       "Genre                  0.0\n",
       "Description            0.0\n",
       "Director               0.0\n",
       "Actors                 0.0\n",
       "Year                   0.0\n",
       "Runtime (Minutes)      0.0\n",
       "Rating                 0.0\n",
       "Votes                  0.0\n",
       "Revenue (Millions)    12.7\n",
       "Metascore              6.4\n",
       "dtype: float64"
      ]
     },
     "execution_count": 31,
     "metadata": {},
     "output_type": "execute_result"
    }
   ],
   "source": [
    "percentage_missing = df1.isnull().sum()*100/len(df1)\n",
    "percentage_missing"
   ]
  },
  {
   "cell_type": "markdown",
   "id": "3641a75b",
   "metadata": {},
   "source": [
    "## Dropping the rows of null values"
   ]
  },
  {
   "cell_type": "code",
   "execution_count": 33,
   "id": "fbb65312",
   "metadata": {},
   "outputs": [],
   "source": [
    "df1.dropna(axis=0, inplace= True)"
   ]
  },
  {
   "cell_type": "code",
   "execution_count": 36,
   "id": "46c46915",
   "metadata": {},
   "outputs": [
    {
     "data": {
      "text/plain": [
       "Rank                  0.0\n",
       "Title                 0.0\n",
       "Genre                 0.0\n",
       "Description           0.0\n",
       "Director              0.0\n",
       "Actors                0.0\n",
       "Year                  0.0\n",
       "Runtime (Minutes)     0.0\n",
       "Rating                0.0\n",
       "Votes                 0.0\n",
       "Revenue (Millions)    0.0\n",
       "Metascore             0.0\n",
       "dtype: float64"
      ]
     },
     "execution_count": 36,
     "metadata": {},
     "output_type": "execute_result"
    }
   ],
   "source": [
    "percentage_missing_new = df1.isnull().sum()*100/len(df1)\n",
    "percentage_missing_new"
   ]
  },
  {
   "cell_type": "code",
   "execution_count": 37,
   "id": "963a3570",
   "metadata": {},
   "outputs": [
    {
     "data": {
      "text/plain": [
       "(838, 12)"
      ]
     },
     "execution_count": 37,
     "metadata": {},
     "output_type": "execute_result"
    }
   ],
   "source": [
    "df1.shape"
   ]
  },
  {
   "cell_type": "markdown",
   "id": "49c2e5a8",
   "metadata": {},
   "source": [
    "## Check for duplicate values "
   ]
  },
  {
   "cell_type": "code",
   "execution_count": 41,
   "id": "03ad09fa",
   "metadata": {},
   "outputs": [],
   "source": [
    "dup_value = df1.duplicated().any()"
   ]
  },
  {
   "cell_type": "code",
   "execution_count": 42,
   "id": "a04b739c",
   "metadata": {},
   "outputs": [
    {
     "name": "stdout",
     "output_type": "stream",
     "text": [
      "Are there any dupliacted value in dataset? False\n"
     ]
    }
   ],
   "source": [
    "print('Are there any dupliacted value in dataset?', dup_value)"
   ]
  },
  {
   "cell_type": "code",
   "execution_count": null,
   "id": "d375a847",
   "metadata": {},
   "outputs": [],
   "source": [
    "df1.drop_duplicated() # If there is any duplicated value then \n",
    "\n",
    "df['Revenue']= df['Revenue'].fillna(df['Revenue'].mean()) #If i want to fill that null values with mean of the column then,"
   ]
  },
  {
   "cell_type": "code",
   "execution_count": 56,
   "id": "56e02a18",
   "metadata": {},
   "outputs": [
    {
     "data": {
      "text/html": [
       "<div>\n",
       "<style scoped>\n",
       "    .dataframe tbody tr th:only-of-type {\n",
       "        vertical-align: middle;\n",
       "    }\n",
       "\n",
       "    .dataframe tbody tr th {\n",
       "        vertical-align: top;\n",
       "    }\n",
       "\n",
       "    .dataframe thead th {\n",
       "        text-align: right;\n",
       "    }\n",
       "</style>\n",
       "<table border=\"1\" class=\"dataframe\">\n",
       "  <thead>\n",
       "    <tr style=\"text-align: right;\">\n",
       "      <th></th>\n",
       "      <th>Rank</th>\n",
       "      <th>Title</th>\n",
       "      <th>Genre</th>\n",
       "      <th>Description</th>\n",
       "      <th>Director</th>\n",
       "      <th>Actors</th>\n",
       "      <th>Year</th>\n",
       "      <th>Runtime (Minutes)</th>\n",
       "      <th>Rating</th>\n",
       "      <th>Votes</th>\n",
       "      <th>Revenue (Millions)</th>\n",
       "      <th>Metascore</th>\n",
       "    </tr>\n",
       "  </thead>\n",
       "  <tbody>\n",
       "    <tr>\n",
       "      <th>count</th>\n",
       "      <td>838.000000</td>\n",
       "      <td>838</td>\n",
       "      <td>838</td>\n",
       "      <td>838</td>\n",
       "      <td>838</td>\n",
       "      <td>838</td>\n",
       "      <td>838</td>\n",
       "      <td>838.000000</td>\n",
       "      <td>838.000000</td>\n",
       "      <td>8.380000e+02</td>\n",
       "      <td>838.000000</td>\n",
       "      <td>838.000000</td>\n",
       "    </tr>\n",
       "    <tr>\n",
       "      <th>unique</th>\n",
       "      <td>NaN</td>\n",
       "      <td>837</td>\n",
       "      <td>189</td>\n",
       "      <td>838</td>\n",
       "      <td>525</td>\n",
       "      <td>834</td>\n",
       "      <td>13</td>\n",
       "      <td>NaN</td>\n",
       "      <td>NaN</td>\n",
       "      <td>NaN</td>\n",
       "      <td>NaN</td>\n",
       "      <td>NaN</td>\n",
       "    </tr>\n",
       "    <tr>\n",
       "      <th>top</th>\n",
       "      <td>NaN</td>\n",
       "      <td>The Host</td>\n",
       "      <td>Action,Adventure,Sci-Fi</td>\n",
       "      <td>A group of intergalactic criminals are forced ...</td>\n",
       "      <td>Ridley Scott</td>\n",
       "      <td>Jennifer Lawrence, Josh Hutcherson, Liam Hemsw...</td>\n",
       "      <td>2016</td>\n",
       "      <td>NaN</td>\n",
       "      <td>NaN</td>\n",
       "      <td>NaN</td>\n",
       "      <td>NaN</td>\n",
       "      <td>NaN</td>\n",
       "    </tr>\n",
       "    <tr>\n",
       "      <th>freq</th>\n",
       "      <td>NaN</td>\n",
       "      <td>2</td>\n",
       "      <td>50</td>\n",
       "      <td>1</td>\n",
       "      <td>8</td>\n",
       "      <td>2</td>\n",
       "      <td>198</td>\n",
       "      <td>NaN</td>\n",
       "      <td>NaN</td>\n",
       "      <td>NaN</td>\n",
       "      <td>NaN</td>\n",
       "      <td>NaN</td>\n",
       "    </tr>\n",
       "    <tr>\n",
       "      <th>mean</th>\n",
       "      <td>485.247017</td>\n",
       "      <td>NaN</td>\n",
       "      <td>NaN</td>\n",
       "      <td>NaN</td>\n",
       "      <td>NaN</td>\n",
       "      <td>NaN</td>\n",
       "      <td>NaN</td>\n",
       "      <td>119.201671</td>\n",
       "      <td>7.042721</td>\n",
       "      <td>1.930045e+05</td>\n",
       "      <td>310.159021</td>\n",
       "      <td>59.639427</td>\n",
       "    </tr>\n",
       "    <tr>\n",
       "      <th>std</th>\n",
       "      <td>286.572065</td>\n",
       "      <td>NaN</td>\n",
       "      <td>NaN</td>\n",
       "      <td>NaN</td>\n",
       "      <td>NaN</td>\n",
       "      <td>NaN</td>\n",
       "      <td>NaN</td>\n",
       "      <td>94.503247</td>\n",
       "      <td>4.701350</td>\n",
       "      <td>1.932491e+05</td>\n",
       "      <td>5405.432293</td>\n",
       "      <td>17.101304</td>\n",
       "    </tr>\n",
       "    <tr>\n",
       "      <th>min</th>\n",
       "      <td>1.000000</td>\n",
       "      <td>NaN</td>\n",
       "      <td>NaN</td>\n",
       "      <td>NaN</td>\n",
       "      <td>NaN</td>\n",
       "      <td>NaN</td>\n",
       "      <td>NaN</td>\n",
       "      <td>66.000000</td>\n",
       "      <td>1.900000</td>\n",
       "      <td>4.800000e+00</td>\n",
       "      <td>0.000000</td>\n",
       "      <td>11.000000</td>\n",
       "    </tr>\n",
       "    <tr>\n",
       "      <th>25%</th>\n",
       "      <td>238.250000</td>\n",
       "      <td>NaN</td>\n",
       "      <td>NaN</td>\n",
       "      <td>NaN</td>\n",
       "      <td>NaN</td>\n",
       "      <td>NaN</td>\n",
       "      <td>NaN</td>\n",
       "      <td>101.000000</td>\n",
       "      <td>6.300000</td>\n",
       "      <td>6.106950e+04</td>\n",
       "      <td>13.967500</td>\n",
       "      <td>47.000000</td>\n",
       "    </tr>\n",
       "    <tr>\n",
       "      <th>50%</th>\n",
       "      <td>475.500000</td>\n",
       "      <td>NaN</td>\n",
       "      <td>NaN</td>\n",
       "      <td>NaN</td>\n",
       "      <td>NaN</td>\n",
       "      <td>NaN</td>\n",
       "      <td>NaN</td>\n",
       "      <td>112.000000</td>\n",
       "      <td>6.900000</td>\n",
       "      <td>1.365205e+05</td>\n",
       "      <td>48.620000</td>\n",
       "      <td>60.000000</td>\n",
       "    </tr>\n",
       "    <tr>\n",
       "      <th>75%</th>\n",
       "      <td>729.750000</td>\n",
       "      <td>NaN</td>\n",
       "      <td>NaN</td>\n",
       "      <td>NaN</td>\n",
       "      <td>NaN</td>\n",
       "      <td>NaN</td>\n",
       "      <td>NaN</td>\n",
       "      <td>124.750000</td>\n",
       "      <td>7.500000</td>\n",
       "      <td>2.710830e+05</td>\n",
       "      <td>117.072500</td>\n",
       "      <td>72.000000</td>\n",
       "    </tr>\n",
       "    <tr>\n",
       "      <th>max</th>\n",
       "      <td>1000.000000</td>\n",
       "      <td>NaN</td>\n",
       "      <td>NaN</td>\n",
       "      <td>NaN</td>\n",
       "      <td>NaN</td>\n",
       "      <td>NaN</td>\n",
       "      <td>NaN</td>\n",
       "      <td>2013.000000</td>\n",
       "      <td>110.000000</td>\n",
       "      <td>1.791916e+06</td>\n",
       "      <td>152145.000000</td>\n",
       "      <td>122.510000</td>\n",
       "    </tr>\n",
       "  </tbody>\n",
       "</table>\n",
       "</div>"
      ],
      "text/plain": [
       "               Rank     Title                    Genre   \n",
       "count    838.000000       838                      838  \\\n",
       "unique          NaN       837                      189   \n",
       "top             NaN  The Host  Action,Adventure,Sci-Fi   \n",
       "freq            NaN         2                       50   \n",
       "mean     485.247017       NaN                      NaN   \n",
       "std      286.572065       NaN                      NaN   \n",
       "min        1.000000       NaN                      NaN   \n",
       "25%      238.250000       NaN                      NaN   \n",
       "50%      475.500000       NaN                      NaN   \n",
       "75%      729.750000       NaN                      NaN   \n",
       "max     1000.000000       NaN                      NaN   \n",
       "\n",
       "                                              Description      Director   \n",
       "count                                                 838           838  \\\n",
       "unique                                                838           525   \n",
       "top     A group of intergalactic criminals are forced ...  Ridley Scott   \n",
       "freq                                                    1             8   \n",
       "mean                                                  NaN           NaN   \n",
       "std                                                   NaN           NaN   \n",
       "min                                                   NaN           NaN   \n",
       "25%                                                   NaN           NaN   \n",
       "50%                                                   NaN           NaN   \n",
       "75%                                                   NaN           NaN   \n",
       "max                                                   NaN           NaN   \n",
       "\n",
       "                                                   Actors  Year   \n",
       "count                                                 838   838  \\\n",
       "unique                                                834    13   \n",
       "top     Jennifer Lawrence, Josh Hutcherson, Liam Hemsw...  2016   \n",
       "freq                                                    2   198   \n",
       "mean                                                  NaN   NaN   \n",
       "std                                                   NaN   NaN   \n",
       "min                                                   NaN   NaN   \n",
       "25%                                                   NaN   NaN   \n",
       "50%                                                   NaN   NaN   \n",
       "75%                                                   NaN   NaN   \n",
       "max                                                   NaN   NaN   \n",
       "\n",
       "        Runtime (Minutes)      Rating         Votes  Revenue (Millions)   \n",
       "count          838.000000  838.000000  8.380000e+02          838.000000  \\\n",
       "unique                NaN         NaN           NaN                 NaN   \n",
       "top                   NaN         NaN           NaN                 NaN   \n",
       "freq                  NaN         NaN           NaN                 NaN   \n",
       "mean           119.201671    7.042721  1.930045e+05          310.159021   \n",
       "std             94.503247    4.701350  1.932491e+05         5405.432293   \n",
       "min             66.000000    1.900000  4.800000e+00            0.000000   \n",
       "25%            101.000000    6.300000  6.106950e+04           13.967500   \n",
       "50%            112.000000    6.900000  1.365205e+05           48.620000   \n",
       "75%            124.750000    7.500000  2.710830e+05          117.072500   \n",
       "max           2013.000000  110.000000  1.791916e+06       152145.000000   \n",
       "\n",
       "         Metascore  \n",
       "count   838.000000  \n",
       "unique         NaN  \n",
       "top            NaN  \n",
       "freq           NaN  \n",
       "mean     59.639427  \n",
       "std      17.101304  \n",
       "min      11.000000  \n",
       "25%      47.000000  \n",
       "50%      60.000000  \n",
       "75%      72.000000  \n",
       "max     122.510000  "
      ]
     },
     "execution_count": 56,
     "metadata": {},
     "output_type": "execute_result"
    }
   ],
   "source": [
    "df1.describe(include= 'all')"
   ]
  },
  {
   "cell_type": "code",
   "execution_count": 54,
   "id": "a031447b",
   "metadata": {},
   "outputs": [
    {
     "data": {
      "text/plain": [
       "Director\n",
       "Ridley Scott          8\n",
       "Paul W.S. Anderson    6\n",
       "Michael Bay           6\n",
       "David Yates           6\n",
       "Martin Scorsese       5\n",
       "                     ..\n",
       "Kyle Balda            1\n",
       "Chris Renaud          1\n",
       "Peter Billingsley     1\n",
       "Lee Toland Krieger    1\n",
       "Nima Nourizadeh       1\n",
       "Name: count, Length: 525, dtype: int64"
      ]
     },
     "execution_count": 54,
     "metadata": {},
     "output_type": "execute_result"
    }
   ],
   "source": [
    "df1['Director'].value_counts()"
   ]
  },
  {
   "cell_type": "markdown",
   "id": "d7202361",
   "metadata": {},
   "source": [
    "## Title of movie having runtime greater than 180 mins"
   ]
  },
  {
   "cell_type": "code",
   "execution_count": 66,
   "id": "e39bd8ee",
   "metadata": {},
   "outputs": [
    {
     "data": {
      "text/plain": [
       "82     The Wolf of Wall Street\n",
       "88           The Hateful Eight\n",
       "311             La vie d'Adèle\n",
       "356       Demain tout commence\n",
       "828                 Grindhouse\n",
       "878      G.I. Joe: Retaliation\n",
       "965              Inland Empire\n",
       "970          Texas Chainsaw 3D\n",
       "Name: Title, dtype: object"
      ]
     },
     "execution_count": 66,
     "metadata": {},
     "output_type": "execute_result"
    }
   ],
   "source": [
    "df[df['Runtime (Minutes)']>= 180]['Title']"
   ]
  },
  {
   "cell_type": "code",
   "execution_count": 67,
   "id": "26c7d75e",
   "metadata": {},
   "outputs": [
    {
     "data": {
      "text/plain": [
       "Genre\n",
       "Action,Adventure,Sci-Fi    50\n",
       "Comedy,Drama,Romance       30\n",
       "Drama                      29\n",
       "Drama,Romance              27\n",
       "Comedy                     26\n",
       "                           ..\n",
       "Adventure,Drama,History     1\n",
       "Action,Crime,Fantasy        1\n",
       "Comedy,Mystery              1\n",
       "Adventure,Comedy,Horror     1\n",
       "Comedy,Family,Fantasy       1\n",
       "Name: count, Length: 189, dtype: int64"
      ]
     },
     "execution_count": 67,
     "metadata": {},
     "output_type": "execute_result"
    }
   ],
   "source": [
    "df1[\"Genre\"].value_counts()"
   ]
  },
  {
   "cell_type": "markdown",
   "id": "b2966a51",
   "metadata": {},
   "source": [
    "## In which year, there was a highest average voting? "
   ]
  },
  {
   "cell_type": "code",
   "execution_count": 89,
   "id": "1f9be6f7",
   "metadata": {},
   "outputs": [
    {
     "data": {
      "text/plain": [
       "Year\n",
       "2012                                                              290861.483871\n",
       "2006                                                              277232.219512\n",
       "2009                                                              267180.577778\n",
       "2008                                                              266580.145833\n",
       "2007                                                              266530.704545\n",
       "2010                                                              261082.929825\n",
       "2011                                                              259254.736842\n",
       "2013                                                              228725.292683\n",
       "2014                                                              211926.881720\n",
       "2015                                                              129512.651376\n",
       "2016                                                               68437.823232\n",
       "Dwayne Johnson, Channing Tatum, Adrianne Palicki,Byung-hun Lee         5.800000\n",
       "Alexandra Daddario, Tania Raymonde, Scott Eastwood, Trey Songz         4.800000\n",
       "Name: Votes, dtype: float64"
      ]
     },
     "execution_count": 89,
     "metadata": {},
     "output_type": "execute_result"
    }
   ],
   "source": [
    "df1.groupby('Year')['Votes'].mean().sort_values(ascending= False)"
   ]
  },
  {
   "cell_type": "code",
   "execution_count": 140,
   "id": "04f470e8",
   "metadata": {},
   "outputs": [
    {
     "data": {
      "image/png": "[encoded data removed]",
      "text/plain": [
       "<Figure size 1000x500 with 1 Axes>"
      ]
     },
     "metadata": {},
     "output_type": "display_data"
    }
   ],
   "source": [
    "plt.figure(figsize= (10,5))\n",
    "a= sns.barplot(x='Year',y='Votes',data= df1)\n",
    "\n",
    "\n",
    "\n",
    "plt.show()"
   ]
  },
  {
   "cell_type": "code",
   "execution_count": 108,
   "id": "d58af845",
   "metadata": {},
   "outputs": [
    {
     "data": {
      "text/html": [
       "<div>\n",
       "<style scoped>\n",
       "    .dataframe tbody tr th:only-of-type {\n",
       "        vertical-align: middle;\n",
       "    }\n",
       "\n",
       "    .dataframe tbody tr th {\n",
       "        vertical-align: top;\n",
       "    }\n",
       "\n",
       "    .dataframe thead th {\n",
       "        text-align: right;\n",
       "    }\n",
       "</style>\n",
       "<table border=\"1\" class=\"dataframe\">\n",
       "  <thead>\n",
       "    <tr style=\"text-align: right;\">\n",
       "      <th></th>\n",
       "      <th>Rank</th>\n",
       "      <th>Title</th>\n",
       "      <th>Genre</th>\n",
       "      <th>Description</th>\n",
       "      <th>Director</th>\n",
       "      <th>Actors</th>\n",
       "      <th>Year</th>\n",
       "      <th>Runtime (Minutes)</th>\n",
       "      <th>Rating</th>\n",
       "      <th>Votes</th>\n",
       "      <th>Revenue (Millions)</th>\n",
       "      <th>Metascore</th>\n",
       "    </tr>\n",
       "  </thead>\n",
       "  <tbody>\n",
       "    <tr>\n",
       "      <th>970</th>\n",
       "      <td>971</td>\n",
       "      <td>Texas Chainsaw 3D</td>\n",
       "      <td>Horror,Thriller</td>\n",
       "      <td>A young woman travels to Texas to collect an i...</td>\n",
       "      <td>little does she know that an encounter with a...</td>\n",
       "      <td>John Luessenhop</td>\n",
       "      <td>Alexandra Daddario, Tania Raymonde, Scott East...</td>\n",
       "      <td>2013</td>\n",
       "      <td>92.0</td>\n",
       "      <td>4.8</td>\n",
       "      <td>37060.0</td>\n",
       "      <td>34.33</td>\n",
       "    </tr>\n",
       "  </tbody>\n",
       "</table>\n",
       "</div>"
      ],
      "text/plain": [
       "     Rank              Title            Genre   \n",
       "970   971  Texas Chainsaw 3D  Horror,Thriller  \\\n",
       "\n",
       "                                           Description   \n",
       "970  A young woman travels to Texas to collect an i...  \\\n",
       "\n",
       "                                              Director           Actors   \n",
       "970   little does she know that an encounter with a...  John Luessenhop  \\\n",
       "\n",
       "                                                  Year  Runtime (Minutes)   \n",
       "970  Alexandra Daddario, Tania Raymonde, Scott East...               2013  \\\n",
       "\n",
       "     Rating  Votes  Revenue (Millions)  Metascore  \n",
       "970    92.0    4.8             37060.0      34.33  "
      ]
     },
     "execution_count": 108,
     "metadata": {},
     "output_type": "execute_result"
    }
   ],
   "source": [
    "df1.loc[df1['Year']== 'Alexandra Daddario, Tania Raymonde, Scott Eastwood, Trey Songz']"
   ]
  },
  {
   "cell_type": "code",
   "execution_count": 103,
   "id": "480e593d",
   "metadata": {},
   "outputs": [
    {
     "name": "stdout",
     "output_type": "stream",
     "text": [
      "['2014' '2012' '2016' '2011' '2015' '2008' '2006' '2007' '2009' '2010'\n",
      " '2013' 'Dwayne Johnson, Channing Tatum, Adrianne Palicki,Byung-hun Lee'\n",
      " 'Alexandra Daddario, Tania Raymonde, Scott Eastwood, Trey Songz']\n"
     ]
    }
   ],
   "source": [
    "a= df1['Year'].unique()\n",
    "print(a)"
   ]
  },
  {
   "cell_type": "code",
   "execution_count": 110,
   "id": "566531b9",
   "metadata": {},
   "outputs": [],
   "source": [
    "string_rows = df1['Year'].apply(lambda x: not str(x).isnumeric())\n",
    "df2 = df1[~string_rows]"
   ]
  },
  {
   "cell_type": "code",
   "execution_count": 112,
   "id": "c3e5bfe8",
   "metadata": {},
   "outputs": [
    {
     "data": {
      "text/plain": [
       "array(['2014', '2012', '2016', '2011', '2015', '2008', '2006', '2007',\n",
       "       '2009', '2010', '2013'], dtype=object)"
      ]
     },
     "execution_count": 112,
     "metadata": {},
     "output_type": "execute_result"
    }
   ],
   "source": [
    "df2['Year'].unique()"
   ]
  },
  {
   "cell_type": "code",
   "execution_count": 141,
   "id": "156bdd95",
   "metadata": {},
   "outputs": [
    {
     "data": {
      "image/png": "[encoded data removed]",
      "text/plain": [
       "<Figure size 1000x500 with 1 Axes>"
      ]
     },
     "metadata": {},
     "output_type": "display_data"
    }
   ],
   "source": [
    "plt.figure(figsize= (10,5))\n",
    "a= sns.barplot(x='Year',y='Votes',data= df2)"
   ]
  },
  {
   "cell_type": "code",
   "execution_count": 115,
   "id": "04512a29",
   "metadata": {},
   "outputs": [
    {
     "data": {
      "text/plain": [
       "Year\n",
       "2016    198\n",
       "2015    109\n",
       "2014     93\n",
       "2013     82\n",
       "2012     62\n",
       "2011     57\n",
       "2010     57\n",
       "2008     48\n",
       "2009     45\n",
       "2007     44\n",
       "2006     41\n",
       "Name: count, dtype: int64"
      ]
     },
     "execution_count": 115,
     "metadata": {},
     "output_type": "execute_result"
    }
   ],
   "source": [
    "df2['Year'].value_counts()"
   ]
  },
  {
   "cell_type": "markdown",
   "id": "cbe673b1",
   "metadata": {},
   "source": [
    "## Yearwise highest revenue "
   ]
  },
  {
   "cell_type": "code",
   "execution_count": 120,
   "id": "2877044b",
   "metadata": {},
   "outputs": [
    {
     "data": {
      "text/plain": [
       "Year\n",
       "2009    115.742000\n",
       "2012    110.103065\n",
       "2010    105.081579\n",
       "2008     97.525417\n",
       "2011     93.703333\n",
       "2007     93.074091\n",
       "2013     88.320366\n",
       "2006     87.255610\n",
       "2014     85.433656\n",
       "2015     80.725596\n",
       "2016     55.566111\n",
       "Name: Revenue (Millions), dtype: float64"
      ]
     },
     "execution_count": 120,
     "metadata": {},
     "output_type": "execute_result"
    }
   ],
   "source": [
    "df2.groupby('Year')['Revenue (Millions)'].mean().sort_values(ascending= False)"
   ]
  },
  {
   "cell_type": "code",
   "execution_count": 139,
   "id": "53c23035",
   "metadata": {},
   "outputs": [
    {
     "data": {
      "text/plain": [
       "Text(0.5, 1.0, 'Yearwise Highest Revenue')"
      ]
     },
     "execution_count": 139,
     "metadata": {},
     "output_type": "execute_result"
    },
    {
     "data": {
      "image/png": "[encoded data removed]",
      "text/plain": [
       "<Figure size 1000x500 with 1 Axes>"
      ]
     },
     "metadata": {},
     "output_type": "display_data"
    }
   ],
   "source": [
    "plt.figure(figsize=(10, 5))\n",
    "a= sns.barplot(x='Year',y='Revenue (Millions)',data= df2)\n",
    "plt.title('Yearwise Highest Revenue')"
   ]
  },
  {
   "cell_type": "markdown",
   "id": "3f36e4b9",
   "metadata": {},
   "source": [
    "## Average rating for each director"
   ]
  },
  {
   "cell_type": "code",
   "execution_count": 128,
   "id": "6b6779f7",
   "metadata": {},
   "outputs": [
    {
     "data": {
      "text/plain": [
       "Director\n",
       "Christopher Nolan                   8.68\n",
       "Makoto Shinkai                      8.60\n",
       "Olivier Nakache                     8.60\n",
       "Aamir Khan                          8.50\n",
       "Florian Henckel von Donnersmarck    8.50\n",
       "                                    ... \n",
       "Sam Taylor-Johnson                  4.10\n",
       "Joey Curtis                         4.00\n",
       "George Nolfi                        3.90\n",
       "James Wong                          2.70\n",
       "Jason Friedberg                     1.90\n",
       "Name: Rating, Length: 523, dtype: float64"
      ]
     },
     "execution_count": 128,
     "metadata": {},
     "output_type": "execute_result"
    }
   ],
   "source": [
    "df2.groupby('Director')['Rating'].mean().sort_values(ascending = False)"
   ]
  },
  {
   "cell_type": "code",
   "execution_count": 131,
   "id": "72d1faf5",
   "metadata": {},
   "outputs": [
    {
     "data": {
      "text/plain": [
       "Director\n",
       "Christopher Nolan                   8.68\n",
       "Makoto Shinkai                      8.60\n",
       "Olivier Nakache                     8.60\n",
       "Aamir Khan                          8.50\n",
       "Florian Henckel von Donnersmarck    8.50\n",
       "Damien Chazelle                     8.40\n",
       "Thomas Vinterberg                   8.30\n",
       "Lee Unkrich                         8.30\n",
       "Rajkumar Hirani                     8.30\n",
       "Pete Docter                         8.25\n",
       "Name: Rating, dtype: float64"
      ]
     },
     "execution_count": 131,
     "metadata": {},
     "output_type": "execute_result"
    }
   ],
   "source": [
    "top_directors= df2.groupby('Director')['Rating'].mean().sort_values(ascending = False).head(10)\n",
    "top_directors"
   ]
  },
  {
   "cell_type": "code",
   "execution_count": 136,
   "id": "6514efb9",
   "metadata": {},
   "outputs": [
    {
     "data": {
      "image/png": "[encoded data removed]",
      "text/plain": [
       "<Figure size 1000x500 with 1 Axes>"
      ]
     },
     "metadata": {},
     "output_type": "display_data"
    }
   ],
   "source": [
    "# ax = top_directors.plot(kind='bar')\n",
    "plt.figure(figsize=(10, 5))\n",
    "sns.barplot(x=top_directors.index, y=top_directors.values )\n",
    "plt.title('Top 10 Directors by Average Rating')\n",
    "plt.xlabel('Director')\n",
    "plt.ylabel('Average Rating')\n",
    "plt.show()"
   ]
  },
  {
   "cell_type": "markdown",
   "id": "8d41a2d8",
   "metadata": {},
   "source": [
    "## Top 10 lengthy movie and their Runtime"
   ]
  },
  {
   "cell_type": "code",
   "execution_count": 148,
   "id": "368ee0a1",
   "metadata": {},
   "outputs": [
    {
     "data": {
      "text/html": [
       "<div>\n",
       "<style scoped>\n",
       "    .dataframe tbody tr th:only-of-type {\n",
       "        vertical-align: middle;\n",
       "    }\n",
       "\n",
       "    .dataframe tbody tr th {\n",
       "        vertical-align: top;\n",
       "    }\n",
       "\n",
       "    .dataframe thead th {\n",
       "        text-align: right;\n",
       "    }\n",
       "</style>\n",
       "<table border=\"1\" class=\"dataframe\">\n",
       "  <thead>\n",
       "    <tr style=\"text-align: right;\">\n",
       "      <th></th>\n",
       "      <th>Runtime (Minutes)</th>\n",
       "    </tr>\n",
       "    <tr>\n",
       "      <th>Title</th>\n",
       "      <th></th>\n",
       "    </tr>\n",
       "  </thead>\n",
       "  <tbody>\n",
       "    <tr>\n",
       "      <th>The Hateful Eight</th>\n",
       "      <td>187</td>\n",
       "    </tr>\n",
       "    <tr>\n",
       "      <th>The Wolf of Wall Street</th>\n",
       "      <td>180</td>\n",
       "    </tr>\n",
       "    <tr>\n",
       "      <th>La vie d'Adèle</th>\n",
       "      <td>180</td>\n",
       "    </tr>\n",
       "    <tr>\n",
       "      <th>Cloud Atlas</th>\n",
       "      <td>172</td>\n",
       "    </tr>\n",
       "    <tr>\n",
       "      <th>3 Idiots</th>\n",
       "      <td>170</td>\n",
       "    </tr>\n",
       "    <tr>\n",
       "      <th>Interstellar</th>\n",
       "      <td>169</td>\n",
       "    </tr>\n",
       "    <tr>\n",
       "      <th>Pirates of the Caribbean: At World's End</th>\n",
       "      <td>169</td>\n",
       "    </tr>\n",
       "    <tr>\n",
       "      <th>The Hobbit: An Unexpected Journey</th>\n",
       "      <td>169</td>\n",
       "    </tr>\n",
       "    <tr>\n",
       "      <th>The Curious Case of Benjamin Button</th>\n",
       "      <td>166</td>\n",
       "    </tr>\n",
       "    <tr>\n",
       "      <th>Transformers: Age of Extinction</th>\n",
       "      <td>165</td>\n",
       "    </tr>\n",
       "  </tbody>\n",
       "</table>\n",
       "</div>"
      ],
      "text/plain": [
       "                                          Runtime (Minutes)\n",
       "Title                                                      \n",
       "The Hateful Eight                                       187\n",
       "The Wolf of Wall Street                                 180\n",
       "La vie d'Adèle                                          180\n",
       "Cloud Atlas                                             172\n",
       "3 Idiots                                                170\n",
       "Interstellar                                            169\n",
       "Pirates of the Caribbean: At World's End                169\n",
       "The Hobbit: An Unexpected Journey                       169\n",
       "The Curious Case of Benjamin Button                     166\n",
       "Transformers: Age of Extinction                         165"
      ]
     },
     "execution_count": 148,
     "metadata": {},
     "output_type": "execute_result"
    }
   ],
   "source": [
    "top10_len = df2.nlargest(10, 'Runtime (Minutes)')[['Title', 'Runtime (Minutes)']].set_index('Title')\n",
    "top10_len"
   ]
  },
  {
   "cell_type": "code",
   "execution_count": 149,
   "id": "4a017e8a",
   "metadata": {},
   "outputs": [
    {
     "data": {
      "text/plain": [
       "<Axes: xlabel='Runtime (Minutes)', ylabel='Title'>"
      ]
     },
     "execution_count": 149,
     "metadata": {},
     "output_type": "execute_result"
    },
    {
     "data": {
      "image/png": "[encoded data removed]",
      "text/plain": [
       "<Figure size 640x480 with 1 Axes>"
      ]
     },
     "metadata": {},
     "output_type": "display_data"
    }
   ],
   "source": [
    "sns.barplot(x='Runtime (Minutes)', y=top10_len.index, data= top10_len)"
   ]
  },
  {
   "cell_type": "markdown",
   "id": "c4a78f4b",
   "metadata": {},
   "source": [
    "## Number of movies per Year"
   ]
  },
  {
   "cell_type": "code",
   "execution_count": 150,
   "id": "c3dffd10",
   "metadata": {},
   "outputs": [
    {
     "data": {
      "text/plain": [
       "Year\n",
       "2016    198\n",
       "2015    109\n",
       "2014     93\n",
       "2013     82\n",
       "2012     62\n",
       "2011     57\n",
       "2010     57\n",
       "2008     48\n",
       "2009     45\n",
       "2007     44\n",
       "2006     41\n",
       "Name: count, dtype: int64"
      ]
     },
     "execution_count": 150,
     "metadata": {},
     "output_type": "execute_result"
    }
   ],
   "source": [
    "df2['Year'].value_counts()"
   ]
  },
  {
   "cell_type": "code",
   "execution_count": 156,
   "id": "7e88fd9c",
   "metadata": {},
   "outputs": [
    {
     "data": {
      "text/plain": [
       "Text(0.5, 1.0, 'Number of Movies Per Year ')"
      ]
     },
     "execution_count": 156,
     "metadata": {},
     "output_type": "execute_result"
    },
    {
     "data": {
      "image/png": "[encoded data removed]",
      "text/plain": [
       "<Figure size 1000x500 with 1 Axes>"
      ]
     },
     "metadata": {},
     "output_type": "display_data"
    }
   ],
   "source": [
    "plt.figure(figsize= (10,5))\n",
    "sns.countplot(x= 'Year', data= df2)\n",
    "plt.title('Number of Movies Per Year ')"
   ]
  },
  {
   "cell_type": "code",
   "execution_count": null,
   "id": "0231621a",
   "metadata": {},
   "outputs": [],
   "source": []
  }
 ],
 "metadata": {
  "kernelspec": {
   "display_name": "Python 3 (ipykernel)",
   "language": "python",
   "name": "python3"
  },
  "language_info": {
   "codemirror_mode": {
    "name": "ipython",
    "version": 3
   },
   "file_extension": ".py",
   "mimetype": "text/x-python",
   "name": "python",
   "nbconvert_exporter": "python",
   "pygments_lexer": "ipython3",
   "version": "3.10.10"
  }
 },
 "nbformat": 4,
 "nbformat_minor": 5
}
